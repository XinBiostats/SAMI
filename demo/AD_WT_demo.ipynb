{
 "cells": [
  {
   "cell_type": "code",
   "execution_count": 4,
   "id": "8469d94d-b03a-4233-a8b1-90e1050be89f",
   "metadata": {
    "tags": []
   },
   "outputs": [],
   "source": [
    "%run ../SAMI/utils.py\n",
    "%run ../SAMI/preprocessing.py\n",
    "%run ../SAMI/correlation.py\n",
    "%run ../SAMI/clustering.py\n",
    "%run ../SAMI/markers.py\n",
    "%run ../SAMI/pathway.py\n",
    "%run ../SAMI/norm.py\n",
    "%run ../SAMI/clustermapping.py\n",
    "import warnings\n",
    "warnings.filterwarnings(\"ignore\")"
   ]
  },
  {
   "cell_type": "markdown",
   "id": "7149e05f-105c-4e25-99c1-44154ca474b1",
   "metadata": {
    "tags": []
   },
   "source": [
    "# Data Preprocessing"
   ]
  },
  {
   "cell_type": "markdown",
   "id": "3f2837d4-630f-4814-9adb-760458736659",
   "metadata": {
    "jp-MarkdownHeadingCollapsed": true,
    "tags": []
   },
   "source": [
    "## Normalization"
   ]
  },
  {
   "cell_type": "code",
   "execution_count": 2,
   "id": "19ed2eb4-39ac-42ca-bf62-279972f4cd68",
   "metadata": {
    "tags": []
   },
   "outputs": [
    {
     "name": "stdout",
     "output_type": "stream",
     "text": [
      "Normalization to constant sum 1.\n",
      "Log2 Transformation.\n",
      "Scaling: N/A.\n",
      "Normalization to constant sum 1.\n",
      "Log2 Transformation.\n",
      "Scaling: N/A.\n",
      "Normalization to constant sum 1.\n",
      "Log2 Transformation.\n",
      "Scaling: N/A.\n"
     ]
    }
   ],
   "source": [
    "data_path = '../datasets/'\n",
    "for file in os.listdir(data_path):\n",
    "    name, ext = os.path.splitext(file)\n",
    "    if re.match(r'^\\w+raw\\.csv',file):\n",
    "        df = pd.read_csv(os.path.join(data_path,f\"{file}\"))\n",
    "        df_norm = Normalization(df, first_compound_idx=3, rowNorm='SumNorm', transNorm='LogTrans2', c=1, log_base=2)\n",
    "        name = name.replace('raw','norm')\n",
    "        df_norm.to_csv(os.path.join(data_path,f\"{name}{ext}\"),index=False)"
   ]
  },
  {
   "cell_type": "markdown",
   "id": "f15347ae-31ee-4a16-b23e-047b1720aaf7",
   "metadata": {
    "jp-MarkdownHeadingCollapsed": true,
    "tags": []
   },
   "source": [
    "## Convert .csv to .h5ad and split datasets by regions"
   ]
  },
  {
   "cell_type": "code",
   "execution_count": 3,
   "id": "fe735cb9-19fc-40e8-ac36-f014184b4a33",
   "metadata": {},
   "outputs": [],
   "source": [
    "csv2h5ad(data_path=data_path,pattern=r'^\\w+norm\\.csv',split=True)"
   ]
  },
  {
   "cell_type": "markdown",
   "id": "6fbf0cf9-5e66-4c90-ad92-382c8d9014c6",
   "metadata": {
    "jp-MarkdownHeadingCollapsed": true,
    "tags": []
   },
   "source": [
    "## Pool three omics data"
   ]
  },
  {
   "cell_type": "code",
   "execution_count": 4,
   "id": "b2811003-01f7-4a20-aa56-c08e8aed06a3",
   "metadata": {},
   "outputs": [],
   "source": [
    "pooldata(data_path=data_path,pattern=r'^\\w+norm\\.csv',split=True) "
   ]
  },
  {
   "cell_type": "code",
   "execution_count": 5,
   "id": "d2c32bad-0ab4-443b-8ac5-8ebe6b3df3f7",
   "metadata": {},
   "outputs": [
    {
     "data": {
      "text/plain": [
       "['brain1ad_pool.h5ad',\n",
       " 'brain1wt_pool.h5ad',\n",
       " 'brain2ad_pool.h5ad',\n",
       " 'brain2wt_pool.h5ad',\n",
       " 'brain3ad_pool.h5ad',\n",
       " 'brain3wt_pool.h5ad',\n",
       " 'brain_pool.h5ad']"
      ]
     },
     "execution_count": 5,
     "metadata": {},
     "output_type": "execute_result"
    }
   ],
   "source": [
    "list_files(data_path,'pool','.h5ad')"
   ]
  },
  {
   "cell_type": "markdown",
   "id": "dbe94c4d-28c7-4610-ba00-92bd29d75cd2",
   "metadata": {
    "tags": []
   },
   "source": [
    "# Clustering"
   ]
  },
  {
   "cell_type": "markdown",
   "id": "0e531273-3d0d-4a27-b238-8716ba31b1fe",
   "metadata": {},
   "source": [
    "## brain1"
   ]
  },
  {
   "cell_type": "code",
   "execution_count": 7,
   "id": "de29c64b-6f32-4bb1-b631-07425e2f550b",
   "metadata": {
    "tags": []
   },
   "outputs": [],
   "source": [
    "clusters = Clusters('brain1wt','pool',1)\n",
    "clusters.clustering()\n",
    "\n",
    "clusters = Clusters('brain1ad','pool',1)\n",
    "clusters.clustering()"
   ]
  },
  {
   "cell_type": "code",
   "execution_count": 45,
   "id": "b87f62c4-516a-4088-a660-b16cea623f20",
   "metadata": {
    "tags": []
   },
   "outputs": [],
   "source": [
    "integration = Cluster_Integration('brain1ad_pool_1.h5ad','brain1wt_pool_1.h5ad')\n",
    "\n",
    "integration.integrate()\n",
    "integration.plot_umap_cluster('brain1ad',size=60)\n",
    "integration.plot_umap_cluster('brain1wt',size=60)\n",
    "integration.plot_overlap_umap(show=False)"
   ]
  },
  {
   "cell_type": "markdown",
   "id": "756e54ad-45ae-4cbe-9c3e-e8e421ab003c",
   "metadata": {},
   "source": [
    "## brain2"
   ]
  },
  {
   "cell_type": "code",
   "execution_count": 46,
   "id": "e4b64a67-3367-4e26-b97c-d4bd690c1fa9",
   "metadata": {
    "tags": []
   },
   "outputs": [],
   "source": [
    "clusters = Clusters('brain2wt','pool',1)\n",
    "clusters.clustering()\n",
    "\n",
    "clusters = Clusters('brain2ad','pool',1)\n",
    "clusters.clustering()"
   ]
  },
  {
   "cell_type": "code",
   "execution_count": 47,
   "id": "26408fba-e627-4ed4-80ae-9d54473439ad",
   "metadata": {
    "tags": []
   },
   "outputs": [],
   "source": [
    "integration = Cluster_Integration('brain2ad_pool_1.h5ad','brain2wt_pool_1.h5ad')\n",
    "\n",
    "integration.integrate()\n",
    "integration.plot_umap_cluster('brain2ad',size=60)\n",
    "integration.plot_umap_cluster('brain2wt',size=60)\n",
    "integration.plot_overlap_umap(show=False)"
   ]
  },
  {
   "cell_type": "markdown",
   "id": "a21c0766-5aa9-441e-ba44-86cb5174a7f2",
   "metadata": {},
   "source": [
    "## brain3"
   ]
  },
  {
   "cell_type": "code",
   "execution_count": 48,
   "id": "f61dd670-eb47-4705-8b8d-764903414438",
   "metadata": {
    "tags": []
   },
   "outputs": [],
   "source": [
    "clusters = Clusters('brain3wt','pool',1)\n",
    "clusters.clustering()\n",
    "\n",
    "clusters = Clusters('brain3ad','pool',1)\n",
    "clusters.clustering()"
   ]
  },
  {
   "cell_type": "code",
   "execution_count": 16,
   "id": "9c79c768-3b13-4901-8f57-a4fe1865bc56",
   "metadata": {
    "tags": []
   },
   "outputs": [],
   "source": [
    "integration = Cluster_Integration('brain3ad_pool_1.h5ad','brain3wt_pool_1.h5ad')\n",
    "\n",
    "#integration.integrate()\n",
    "#integration.plot_umap_cluster('brain3ad',size=60)\n",
    "#integration.plot_umap_cluster('brain3wt',size=60)\n",
    "#integration.plot_overlap_umap(show=False)"
   ]
  },
  {
   "cell_type": "code",
   "execution_count": 91,
   "id": "8f01a14f-eb27-4f84-ab71-2c7580282d85",
   "metadata": {
    "tags": []
   },
   "outputs": [],
   "source": [
    "for i in range(17):\n",
    "    integration.plot_select_cluster('brain3wt',cluster=i, size=60)"
   ]
  },
  {
   "cell_type": "code",
   "execution_count": 17,
   "id": "bd7282c3-75e5-478f-9f2f-cb8a49ad51c5",
   "metadata": {
    "tags": []
   },
   "outputs": [],
   "source": [
    "for i in range(17):\n",
    "    integration.plot_select_cluster('brain3ad',cluster=i, size=60)"
   ]
  },
  {
   "cell_type": "markdown",
   "id": "fb414b8a-857d-4ac7-a797-029e0298d40b",
   "metadata": {
    "tags": []
   },
   "source": [
    "# Markers"
   ]
  },
  {
   "cell_type": "code",
   "execution_count": 2,
   "id": "e4242b5f-addd-451f-8bf2-f37be846116d",
   "metadata": {
    "tags": []
   },
   "outputs": [],
   "source": [
    "adata1 = sc.read('../results/clustering/brain1wt_integrated.h5ad')\n",
    "adata_filtered1 = adata_filter(adata1,0.1,0.1)\n",
    "\n",
    "adata2 = sc.read('../results/clustering/brain1ad_integrated.h5ad')\n",
    "adata_filtered2 = adata_filter(adata2,0.1,0.1)"
   ]
  },
  {
   "cell_type": "code",
   "execution_count": 3,
   "id": "802b7052-81e1-459e-8edf-dfb95ff67ae5",
   "metadata": {
    "tags": []
   },
   "outputs": [],
   "source": [
    "markers = Markers('brain1')\n",
    "\n",
    "markers.findmarkers(adata=adata_filtered1,adata2=adata_filtered2,adj_pval_cutoff=0.05,top=50)\n",
    "\n",
    "markers.circular_tree(top=5, show=False)\n",
    "\n",
    "for i in range(21):\n",
    "    markers.volcano_plot(i, show=False)"
   ]
  },
  {
   "cell_type": "code",
   "execution_count": 4,
   "id": "24c9c7cc-0423-450e-8060-4db6eb52cb24",
   "metadata": {
    "tags": []
   },
   "outputs": [],
   "source": [
    "adata1 = sc.read('../results/clustering/brain2wt_integrated.h5ad')\n",
    "adata_filtered1 = adata_filter(adata1,0.1,0.1)\n",
    "\n",
    "adata2 = sc.read('../results/clustering/brain2ad_integrated.h5ad')\n",
    "adata_filtered2 = adata_filter(adata2,0.1,0.1)"
   ]
  },
  {
   "cell_type": "code",
   "execution_count": 5,
   "id": "786783c6-4a3b-4587-8d4e-9f14e0b89f98",
   "metadata": {
    "tags": []
   },
   "outputs": [],
   "source": [
    "markers = Markers('brain2')\n",
    "\n",
    "markers.findmarkers(adata=adata_filtered1,adata2=adata_filtered2,adj_pval_cutoff=0.05,top=50)\n",
    "\n",
    "markers.circular_tree(top=5, show=False)\n",
    "\n",
    "for i in range(16):\n",
    "    markers.volcano_plot(i, show=False)"
   ]
  },
  {
   "cell_type": "code",
   "execution_count": 75,
   "id": "d1b91687-8087-433d-8564-6e05254535f7",
   "metadata": {
    "tags": []
   },
   "outputs": [],
   "source": [
    "adata1 = sc.read('../results/clustering/brain3wt_integrated.h5ad')\n",
    "adata_filtered1 = adata_filter(adata1,0.1,0.1)\n",
    "\n",
    "adata2 = sc.read('../results/clustering/brain3ad_integrated.h5ad')\n",
    "adata_filtered2 = adata_filter(adata2,0.1,0.1)"
   ]
  },
  {
   "cell_type": "code",
   "execution_count": 77,
   "id": "09b23b73-d664-4546-a713-852d3010b9e4",
   "metadata": {
    "tags": []
   },
   "outputs": [],
   "source": [
    "markers = Markers('brain3')\n",
    "\n",
    "markers.findmarkers(adata=adata_filtered1,adata2=adata_filtered2,adj_pval_cutoff=0.05,top=50)\n",
    "\n",
    "markers.circular_tree(top=5, show=False)\n",
    "\n",
    "for i in range(17):\n",
    "    markers.volcano_plot(i, show=False)"
   ]
  },
  {
   "cell_type": "markdown",
   "id": "b8394ac1-c71c-44a5-8b47-13acc1575b3d",
   "metadata": {
    "tags": []
   },
   "source": [
    "# Pathway"
   ]
  },
  {
   "cell_type": "code",
   "execution_count": 6,
   "id": "7313a480-eaad-42c4-8b38-1695942ff92f",
   "metadata": {
    "tags": []
   },
   "outputs": [
    {
     "name": "stdout",
     "output_type": "stream",
     "text": [
      "Metabolomics and Glycomics are combined for pathway enrichment analysis.\n"
     ]
    }
   ],
   "source": [
    "pathway = Pathway('brain3','metabolomics')"
   ]
  },
  {
   "cell_type": "code",
   "execution_count": 7,
   "id": "1a89cf81-ba1f-48fa-8792-7b9498eb004b",
   "metadata": {
    "tags": []
   },
   "outputs": [],
   "source": [
    "pathway.findpathway()\n",
    "\n",
    "for i in range(17):\n",
    "    pathway.plot_dot(cluster=i,scale=30,height=10,top=20,show=False)\n",
    "\n",
    "    pathway.pathway_network(cluster=i,top=20,show=False)"
   ]
  },
  {
   "cell_type": "code",
   "execution_count": 11,
   "id": "773e6075-d0a8-4a3d-81dd-d60ae113edb1",
   "metadata": {
    "tags": []
   },
   "outputs": [],
   "source": [
    "pathway = Pathway('brain3','lipidomics')"
   ]
  },
  {
   "cell_type": "code",
   "execution_count": 12,
   "id": "b798497e-5c1e-4085-aa3e-b69b833e1616",
   "metadata": {
    "tags": []
   },
   "outputs": [
    {
     "name": "stdout",
     "output_type": "stream",
     "text": [
      "[1] \"MetaboAnalyst R objects initialized ...\"\n",
      "[1] \"1\"                                                                              \n",
      "[2] \"Name matching OK, please inspect (and manual correct) the results then proceed.\"\n",
      "[1] \"MetaboAnalyst R objects initialized ...\"\n",
      "[1] \"1\"                                                                              \n",
      "[2] \"Name matching OK, please inspect (and manual correct) the results then proceed.\"\n",
      "[1] \"MetaboAnalyst R objects initialized ...\"\n",
      "[1] \"1\"                                                                              \n",
      "[2] \"Name matching OK, please inspect (and manual correct) the results then proceed.\"\n",
      "[1] \"MetaboAnalyst R objects initialized ...\"\n",
      "[1] \"1\"                                                                              \n",
      "[2] \"Name matching OK, please inspect (and manual correct) the results then proceed.\"\n",
      "[1] \"MetaboAnalyst R objects initialized ...\"\n",
      "[1] \"1\"                                                                              \n",
      "[2] \"Name matching OK, please inspect (and manual correct) the results then proceed.\"\n",
      "[1] \"MetaboAnalyst R objects initialized ...\"\n",
      "[1] \"1\"                                                                              \n",
      "[2] \"Name matching OK, please inspect (and manual correct) the results then proceed.\"\n",
      "[1] \"MetaboAnalyst R objects initialized ...\"\n",
      "[1] \"1\"                                                                              \n",
      "[2] \"Name matching OK, please inspect (and manual correct) the results then proceed.\"\n",
      "[1] \"MetaboAnalyst R objects initialized ...\"\n",
      "[1] \"1\"                                                                              \n",
      "[2] \"Name matching OK, please inspect (and manual correct) the results then proceed.\"\n",
      "[1] \"MetaboAnalyst R objects initialized ...\"\n",
      "[1] \"1\"                                                                              \n",
      "[2] \"Name matching OK, please inspect (and manual correct) the results then proceed.\"\n",
      "[1] \"MetaboAnalyst R objects initialized ...\"\n",
      "[1] \"1\"                                                                              \n",
      "[2] \"Name matching OK, please inspect (and manual correct) the results then proceed.\"\n",
      "[1] \"MetaboAnalyst R objects initialized ...\"\n",
      "[1] \"1\"                                                                              \n",
      "[2] \"Name matching OK, please inspect (and manual correct) the results then proceed.\"\n",
      "[1] \"MetaboAnalyst R objects initialized ...\"\n",
      "[1] \"1\"                                                                              \n",
      "[2] \"Name matching OK, please inspect (and manual correct) the results then proceed.\"\n",
      "[1] \"MetaboAnalyst R objects initialized ...\"\n",
      "[1] \"1\"                                                                              \n",
      "[2] \"Name matching OK, please inspect (and manual correct) the results then proceed.\"\n",
      "[1] \"MetaboAnalyst R objects initialized ...\"\n",
      "[1] \"1\"                                                                              \n",
      "[2] \"Name matching OK, please inspect (and manual correct) the results then proceed.\"\n",
      "[1] \"MetaboAnalyst R objects initialized ...\"\n",
      "[1] \"1\"                                                                              \n",
      "[2] \"Name matching OK, please inspect (and manual correct) the results then proceed.\"\n",
      "[1] \"MetaboAnalyst R objects initialized ...\"\n",
      "[1] \"1\"                                                                              \n",
      "[2] \"Name matching OK, please inspect (and manual correct) the results then proceed.\"\n",
      "[1] \"MetaboAnalyst R objects initialized ...\"\n",
      "[1] \"1\"                                                                              \n",
      "[2] \"Name matching OK, please inspect (and manual correct) the results then proceed.\"\n"
     ]
    }
   ],
   "source": [
    "pathway.findpathway()\n",
    "\n",
    "for i in range(17):\n",
    "    pathway.plot_dot(cluster=i,scale=0.4,height=10,top=20,show=False)"
   ]
  }
 ],
 "metadata": {
  "kernelspec": {
   "display_name": "maldi",
   "language": "python",
   "name": "maldi"
  },
  "language_info": {
   "codemirror_mode": {
    "name": "ipython",
    "version": 3
   },
   "file_extension": ".py",
   "mimetype": "text/x-python",
   "name": "python",
   "nbconvert_exporter": "python",
   "pygments_lexer": "ipython3",
   "version": "3.9.16"
  }
 },
 "nbformat": 4,
 "nbformat_minor": 5
}
